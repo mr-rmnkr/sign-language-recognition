{
 "cells": [
  {
   "cell_type": "code",
   "execution_count": 2,
   "id": "6016576e",
   "metadata": {},
   "outputs": [
    {
     "data": {
      "text/plain": [
       "-1"
      ]
     },
     "execution_count": 2,
     "metadata": {},
     "output_type": "execute_result"
    }
   ],
   "source": [
    "import cv2\n",
    "import numpy as np\n",
    "\n",
    "vc = cv2.VideoCapture(0)\n",
    "pic_no = 0\n",
    "total_pic = 1200\n",
    "flag_capturing = False\n",
    "path = './'                                #give the path where you want to save pictures for your dataset\n",
    "while(vc.isOpened()):\n",
    "    # read image\n",
    "    rval, frame = vc.read()\n",
    "    frame = cv2.flip(frame, 1)\n",
    "    \n",
    "    # get hand data from the rectangle sub window on the screen\n",
    "    cv2.rectangle(frame, (300,300), (100,100), (0,255,0),0)\n",
    "    \n",
    "    cv2.imshow(\"image\", frame)\n",
    "    \n",
    "    crop_img = frame[100:300, 100:300]\n",
    "    \n",
    "    if flag_capturing:\n",
    "        \n",
    "        pic_no += 1\n",
    "        save_img = cv2.resize( crop_img, (50,50) )\n",
    "        save_img = np.array(save_img)\n",
    "        cv2.imwrite(path + \"/\" + str(pic_no) + \".jpg\", save_img)\n",
    "        \n",
    "    \n",
    "    keypress = cv2.waitKey(1)\n",
    "    \n",
    "    if pic_no == total_pic:\n",
    "        flag_capturing = False\n",
    "        break\n",
    "    \n",
    "    if keypress == ord('q'):\n",
    "        break\n",
    "    elif keypress == ord('c'):\n",
    "        flag_capturing = True\n",
    "\n",
    "vc.release()\n",
    "cv2.destroyAllWindows()\n",
    "cv2.waitKey(1)\n"
   ]
  },
  {
   "cell_type": "code",
   "execution_count": null,
   "id": "09bb59dd",
   "metadata": {},
   "outputs": [],
   "source": []
  }
 ],
 "metadata": {
  "kernelspec": {
   "display_name": "Python 3",
   "language": "python",
   "name": "python3"
  },
  "language_info": {
   "codemirror_mode": {
    "name": "ipython",
    "version": 3
   },
   "file_extension": ".py",
   "mimetype": "text/x-python",
   "name": "python",
   "nbconvert_exporter": "python",
   "pygments_lexer": "ipython3",
   "version": "3.8.8"
  }
 },
 "nbformat": 4,
 "nbformat_minor": 5
}
