{
 "cells": [
  {
   "cell_type": "code",
   "execution_count": 1,
   "id": "537099a7",
   "metadata": {},
   "outputs": [],
   "source": [
    "# image capturing with ip cam\n",
    "\n",
    "import cv2\n",
    "import requests\n",
    "import imutils\n",
    "import numpy as np"
   ]
  },
  {
   "cell_type": "code",
   "execution_count": 2,
   "id": "07bcc4e1",
   "metadata": {},
   "outputs": [],
   "source": [
    "def ip_cam(address):\n",
    "    # Replace the below URL with your own url of ip cam. Make sure to add \"/shot.jpg\" at last.\n",
    "   # url = \"http://10.7.34.197:8080/shot.jpg\"\n",
    "\n",
    "    # While loop to continuously fetching data from the Url of mobile camera\n",
    "    while True:\n",
    "\n",
    "        img_resp = requests.get(address)\n",
    "\n",
    "        img_arr = np.array(bytearray(img_resp.content), dtype=np.uint8)\n",
    "        img = cv2.imdecode(img_arr, 1)\n",
    "        img = cv2.flip(img, -1)\n",
    "\n",
    "        return img"
   ]
  },
  {
   "cell_type": "code",
   "execution_count": 8,
   "id": "d4860dd1",
   "metadata": {},
   "outputs": [
    {
     "data": {
      "text/plain": [
       "-1"
      ]
     },
     "execution_count": 8,
     "metadata": {},
     "output_type": "execute_result"
    }
   ],
   "source": [
    "url = \"http://10.41.205.124:8080/shot.jpg\"\n",
    "frame = ip_cam(url)\n",
    "\n",
    "#vc = cv2.VideoCapture(0)\n",
    "pic_no = 0\n",
    "total_pic = 200\n",
    "flag_capturing = False\n",
    "path = './'                                #give the path where you want to save pictures for your dataset\n",
    "while(True):\n",
    "    # read image\n",
    "    frame = ip_cam(url)\n",
    "    #frame = cv2.flip(frame, 1)\n",
    "    \n",
    "    # get hand data from the rectangle sub window on the screen\n",
    "    cv2.rectangle(frame, (300,300), (100,100), (0,255,0),0)\n",
    "    \n",
    "    cv2.imshow(\"image\", frame)\n",
    "    \n",
    "    crop_img = frame[100:300, 100:300]\n",
    "    \n",
    "    if flag_capturing:\n",
    "        \n",
    "        pic_no += 1\n",
    "        save_img = cv2.resize( crop_img, (50,50) )\n",
    "        save_img = np.array(save_img)\n",
    "        cv2.imwrite(path + \"/\" + str(pic_no) + \".jpg\", save_img)\n",
    "        \n",
    "    \n",
    "    keypress = cv2.waitKey(1)\n",
    "    \n",
    "    if pic_no == total_pic:\n",
    "        flag_capturing = False\n",
    "        break\n",
    "    \n",
    "    if keypress == ord('q'):\n",
    "        break\n",
    "    elif keypress == ord('c'):\n",
    "        flag_capturing = True\n",
    "\n",
    "\n",
    "cv2.destroyAllWindows()\n",
    "cv2.waitKey(1)\n"
   ]
  },
  {
   "cell_type": "code",
   "execution_count": null,
   "id": "9dc25172",
   "metadata": {},
   "outputs": [],
   "source": []
  }
 ],
 "metadata": {
  "kernelspec": {
   "display_name": "Python 3",
   "language": "python",
   "name": "python3"
  },
  "language_info": {
   "codemirror_mode": {
    "name": "ipython",
    "version": 3
   },
   "file_extension": ".py",
   "mimetype": "text/x-python",
   "name": "python",
   "nbconvert_exporter": "python",
   "pygments_lexer": "ipython3",
   "version": "3.8.8"
  }
 },
 "nbformat": 4,
 "nbformat_minor": 5
}
