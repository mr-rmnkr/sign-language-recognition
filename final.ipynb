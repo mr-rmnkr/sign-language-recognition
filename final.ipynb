{
 "cells": [
  {
   "cell_type": "code",
   "execution_count": 1,
   "id": "4c88ded8",
   "metadata": {},
   "outputs": [],
   "source": [
    "import cv2\n",
    "import numpy as np\n",
    "from keras.models import load_model"
   ]
  },
  {
   "cell_type": "code",
   "execution_count": 2,
   "id": "79304d6c",
   "metadata": {},
   "outputs": [],
   "source": [
    "model = load_model('./new_model77.h5')"
   ]
  },
  {
   "cell_type": "code",
   "execution_count": 3,
   "id": "f5ec4233",
   "metadata": {},
   "outputs": [],
   "source": [
    "gestures = {\n",
    "    1:'A',\n",
    "    2:'B',\n",
    "    3:'C',\n",
    "    4:'D',\n",
    "    5:'E',\n",
    "    6:'F',\n",
    "    7:'G',\n",
    "    8:'H',\n",
    "    9:'I',\n",
    "    10:'K',\n",
    "    11:'L',\n",
    "    12:'M',\n",
    "    13:'N',\n",
    "    14:'O',\n",
    "    15:'P',\n",
    "    16:'Q',\n",
    "    17:'R',\n",
    "    18:'S',\n",
    "    19:'T',\n",
    "    20:'U',\n",
    "    21:'V',\n",
    "    22:'W',\n",
    "    23:'X',\n",
    "    24:'Y',\n",
    "}\n"
   ]
  },
  {
   "cell_type": "code",
   "execution_count": 4,
   "id": "6fec1cbe",
   "metadata": {},
   "outputs": [],
   "source": [
    "def predict(gesture):\n",
    "    img = cv2.resize(gesture, (50,50))\n",
    "    img = img.reshape(1,50,50,1)\n",
    "    img = img/255.0\n",
    "    prd = model.predict(img)\n",
    "    index = prd.argmax()\n",
    "    return gestures[index]"
   ]
  },
  {
   "cell_type": "code",
   "execution_count": 5,
   "id": "3f4601d3",
   "metadata": {},
   "outputs": [],
   "source": [
    "vc = cv2.VideoCapture(0)\n",
    "rval, frame = vc.read()\n",
    "old_text = ''\n",
    "pred_text = ''\n",
    "sign_pic = cv2.imread(\"pic_sign.png\")\n",
    "pic= cv2.resize(sign_pic,(300,300))\n",
    "count_frames = 0\n",
    "total_str = ''\n",
    "flag = False\n",
    "\n",
    "while True:\n",
    "    \n",
    "    if frame is not None: \n",
    "        \n",
    "        frame = cv2.flip(frame, 1)\n",
    "        frame = cv2.resize( frame, (500,400) )\n",
    "        \n",
    "        \n",
    "        cv2.rectangle(frame, (300,300), (100,100), (0,255,0), 2)\n",
    "        \n",
    "        crop_img = frame[100:300, 100:300]\n",
    "        grey = cv2.cvtColor(crop_img, cv2.COLOR_BGR2GRAY)\n",
    "        \n",
    "        Gauss = cv2.GaussianBlur(grey, (3,3), 0)\n",
    "        bilateral = cv2.bilateralFilter(Gauss, 9, 75, 75)\n",
    "        \n",
    "        thresh = cv2.threshold(bilateral,210,255,cv2.THRESH_BINARY_INV+cv2.THRESH_OTSU)[1]\n",
    "      \n",
    "        \n",
    "        blackboard = np.zeros(frame.shape, dtype=np.uint8)\n",
    "        cv2.putText(blackboard, \"Predicted Text--> \" + pred_text, (20, 30), cv2.FONT_HERSHEY_COMPLEX_SMALL, 1, (255, 255, 0))\n",
    "\n",
    "\n",
    "        if count_frames > 20 and pred_text != \"\":\n",
    "            total_str += pred_text\n",
    "            count_frames = 0\n",
    "            \n",
    "        if flag == True:\n",
    "            old_text = pred_text\n",
    "            pred_text = predict(thresh)\n",
    "        \n",
    "            if old_text == pred_text:\n",
    "                count_frames += 1\n",
    "            else:\n",
    "                count_frames = 0\n",
    "            cv2.putText(blackboard, total_str, (20,130), cv2.FONT_ITALIC, 1.2, (255, 25, 127))\n",
    "        res = np.hstack((frame, blackboard))\n",
    "        \n",
    "        cv2.imshow(\"Image\", res)\n",
    "        cv2.imshow(\"Hand\", thresh)\n",
    "        cv2.imshow(\"Sign Demo\", pic)\n",
    "    rval, frame = vc.read()\n",
    "    keypress = cv2.waitKey(1)\n",
    "    if keypress == ord('c'):\n",
    "        flag = True\n",
    "    if keypress == ord('q'):\n",
    "        break\n",
    "\n",
    "vc.release()\n",
    "cv2.destroyAllWindows()\n",
    "cv2.waitKey(1)\n",
    "vc.release()\n"
   ]
  },
  {
   "cell_type": "code",
   "execution_count": null,
   "id": "619cd386",
   "metadata": {},
   "outputs": [],
   "source": []
  },
  {
   "cell_type": "code",
   "execution_count": null,
   "id": "10b6c69b",
   "metadata": {},
   "outputs": [],
   "source": []
  }
 ],
 "metadata": {
  "kernelspec": {
   "display_name": "Python 3",
   "language": "python",
   "name": "python3"
  },
  "language_info": {
   "codemirror_mode": {
    "name": "ipython",
    "version": 3
   },
   "file_extension": ".py",
   "mimetype": "text/x-python",
   "name": "python",
   "nbconvert_exporter": "python",
   "pygments_lexer": "ipython3",
   "version": "3.8.8"
  }
 },
 "nbformat": 4,
 "nbformat_minor": 5
}
